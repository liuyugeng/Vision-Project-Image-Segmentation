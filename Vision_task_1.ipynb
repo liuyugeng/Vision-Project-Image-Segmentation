{
 "cells": [
  {
   "cell_type": "markdown",
   "metadata": {},
   "source": [
    "# Image Segmentation Task 1\n",
    "#### Welcome to the first task of Image Segmentation. Image segmentation is the process of partitioning the image into a set of pixels representing an object. In this task, you will be introduced to the problem of image segmentation and programming pipeline involved in image segmentation."
   ]
  },
  {
   "cell_type": "markdown",
   "metadata": {},
   "source": [
    "For the purpose of this task we will be using PASCAL VOC datset. The dataset contains a total of 2913 images with segmentation annotations. Code in the cell below will download the code and extract the dataset."
   ]
  },
  {
   "cell_type": "markdown",
   "metadata": {},
   "source": [
    "### 1.1 Loading the dataset"
   ]
  },
  {
   "cell_type": "code",
   "execution_count": 11,
   "metadata": {
    "executionInfo": {
     "elapsed": 259698,
     "status": "ok",
     "timestamp": 1610647602623,
     "user": {
      "displayName": "dikshant gupta",
      "photoUrl": "https://lh3.googleusercontent.com/a-/AOh14GjGExYbOwwSrmoe8LVKyI5XQQl2f1k4HbD2Vx5Vpg=s64",
      "userId": "01845807612441668603"
     },
     "user_tz": -60
    },
    "id": "qunDv45j24Mg"
   },
   "outputs": [],
   "source": [
    "import os\n",
    "from os.path import join as pjoin\n",
    "import collections\n",
    "import json\n",
    "import torch\n",
    "import imageio\n",
    "import numpy as np\n",
    "import scipy.misc as m\n",
    "import scipy.io as io\n",
    "import matplotlib.pyplot as plt\n",
    "import glob\n",
    "\n",
    "import torch.optim as optim\n",
    "import torch.nn.functional as F\n",
    "import torch.backends.cudnn as cudnn\n",
    "\n",
    "from PIL import Image\n",
    "from tqdm import tqdm\n",
    "from torch.utils import data\n",
    "from torchvision import transforms\n",
    "\n",
    "os.environ[\"CUDA_VISIBLE_DEVICES\"] = \"0,1,2,3\"\n",
    "torch.multiprocessing.set_sharing_strategy('file_system')\n",
    "\n",
    "\n",
    "class pascalVOCDataset(data.Dataset):\n",
    "    \"\"\"Data loader for the Pascal VOC semantic segmentation dataset.\n",
    "\n",
    "    Annotations from both the original VOC data (which consist of RGB images\n",
    "    in which colours map to specific classes) and the SBD (Berkely) dataset\n",
    "    (where annotations are stored as .mat files) are converted into a common\n",
    "    `label_mask` format.  Under this format, each mask is an (M,N) array of\n",
    "    integer values from 0 to 21, where 0 represents the background class.\n",
    "\n",
    "    The label masks are stored in a new folder, called `pre_encoded`, which\n",
    "    is added as a subdirectory of the `SegmentationClass` folder in the\n",
    "    original Pascal VOC data layout.\n",
    "\n",
    "    A total of five data splits are provided for working with the VOC data:\n",
    "        train: The original VOC 2012 training data - 1464 images\n",
    "        val: The original VOC 2012 validation data - 1449 images\n",
    "        trainval: The combination of `train` and `val` - 2913 images\n",
    "        train_aug: The unique images present in both the train split and\n",
    "                   training images from SBD: - 8829 images (the unique members\n",
    "                   of the result of combining lists of length 1464 and 8498)\n",
    "        train_aug_val: The original VOC 2012 validation data minus the images\n",
    "                   present in `train_aug` (This is done with the same logic as\n",
    "                   the validation set used in FCN PAMI paper, but with VOC 2012\n",
    "                   rather than VOC 2011) - 904 images\n",
    "    \"\"\"\n",
    "\n",
    "    def __init__(\n",
    "        self,\n",
    "        root,\n",
    "        sbd_path=None,\n",
    "        split=\"train_aug\",\n",
    "        is_transform=False,\n",
    "        img_size=512,\n",
    "        augmentations=None,\n",
    "        img_norm=True,\n",
    "        test_mode=False,\n",
    "    ):\n",
    "        self.root = root\n",
    "        self.sbd_path = sbd_path\n",
    "        self.split = split\n",
    "        self.is_transform = is_transform\n",
    "        self.augmentations = augmentations\n",
    "        self.img_norm = img_norm\n",
    "        self.test_mode = test_mode\n",
    "        self.n_classes = 21\n",
    "        self.mean = np.array([104.00699, 116.66877, 122.67892])\n",
    "        self.files = collections.defaultdict(list)\n",
    "        self.img_size = img_size if isinstance(img_size, tuple) else (img_size, img_size)\n",
    "\n",
    "        if not self.test_mode:\n",
    "            for split in [\"train\", \"val\", \"trainval\"]:\n",
    "                path = pjoin(self.root, \"ImageSets/Segmentation\", split + \".txt\")\n",
    "                file_list = tuple(open(path, \"r\"))\n",
    "                file_list = [id_.rstrip() for id_ in file_list]\n",
    "                self.files[split] = file_list\n",
    "            self.setup_annotations()\n",
    "\n",
    "        self.tf = transforms.Compose(\n",
    "            [\n",
    "                # add more trasnformations as you see fit\n",
    "                transforms.ToTensor(),\n",
    "                transforms.Normalize([0.485, 0.456, 0.406], [0.229, 0.224, 0.225]),\n",
    "            ]\n",
    "        )\n",
    "\n",
    "    def __len__(self):\n",
    "        return len(self.files[self.split])\n",
    "\n",
    "    def __getitem__(self, index):\n",
    "        im_name = self.files[self.split][index]\n",
    "        im_path = pjoin(self.root, \"JPEGImages\", im_name + \".jpg\")\n",
    "        lbl_path = pjoin(self.root, \"SegmentationClass/pre_encoded\", im_name + \".png\")\n",
    "        im = Image.open(im_path)\n",
    "        lbl = Image.open(lbl_path)\n",
    "        if self.augmentations is not None:\n",
    "            im, lbl = self.augmentations(im, lbl)\n",
    "        if self.is_transform:\n",
    "            im, lbl = self.transform(im, lbl)\n",
    "        return im, torch.clamp(lbl, max=20)\n",
    "\n",
    "    def transform(self, img, lbl):\n",
    "        if self.img_size == (\"same\", \"same\"):\n",
    "            pass\n",
    "        else:\n",
    "            img = img.resize((self.img_size[0], self.img_size[1]))  # uint8 with RGB mode\n",
    "            lbl = lbl.resize((self.img_size[0], self.img_size[1]))\n",
    "        img = self.tf(img)\n",
    "        lbl = torch.from_numpy(np.array(lbl)).long()\n",
    "        lbl[lbl == 255] = 0\n",
    "        return img, lbl\n",
    "\n",
    "    def get_pascal_labels(self):\n",
    "        \"\"\"Load the mapping that associates pascal classes with label colors\n",
    "\n",
    "        Returns:\n",
    "            np.ndarray with dimensions (21, 3)\n",
    "        \"\"\"\n",
    "        return np.asarray(\n",
    "            [\n",
    "                [0, 0, 0],\n",
    "                [128, 0, 0],\n",
    "                [0, 128, 0],\n",
    "                [128, 128, 0],\n",
    "                [0, 0, 128],\n",
    "                [128, 0, 128],\n",
    "                [0, 128, 128],\n",
    "                [128, 128, 128],\n",
    "                [64, 0, 0],\n",
    "                [192, 0, 0],\n",
    "                [64, 128, 0],\n",
    "                [192, 128, 0],\n",
    "                [64, 0, 128],\n",
    "                [192, 0, 128],\n",
    "                [64, 128, 128],\n",
    "                [192, 128, 128],\n",
    "                [0, 64, 0],\n",
    "                [128, 64, 0],\n",
    "                [0, 192, 0],\n",
    "                [128, 192, 0],\n",
    "                [0, 64, 128],\n",
    "            ]\n",
    "        )\n",
    "\n",
    "    def encode_segmap(self, mask):\n",
    "        \"\"\"Encode segmentation label images as pascal classes\n",
    "\n",
    "        Args:\n",
    "            mask (np.ndarray): raw segmentation label image of dimension\n",
    "              (M, N, 3), in which the Pascal classes are encoded as colours.\n",
    "\n",
    "        Returns:\n",
    "            (np.ndarray): class map with dimensions (M,N), where the value at\n",
    "            a given location is the integer denoting the class index.\n",
    "        \"\"\"\n",
    "        mask = mask.astype(int)\n",
    "        label_mask = np.zeros((mask.shape[0], mask.shape[1]), dtype=np.int16)\n",
    "        for ii, label in enumerate(self.get_pascal_labels()):\n",
    "            label_mask[np.where(np.all(mask == label, axis=-1))[:2]] = ii\n",
    "        label_mask = label_mask.astype(int)\n",
    "        # print(np.unique(label_mask))\n",
    "        return label_mask\n",
    "\n",
    "    def decode_segmap(self, label_mask, plot=False):\n",
    "        \"\"\"Decode segmentation class labels into a color image\n",
    "\n",
    "        Args:\n",
    "            label_mask (np.ndarray): an (M,N) array of integer values denoting\n",
    "              the class label at each spatial location.\n",
    "            plot (bool, optional): whether to show the resulting color image\n",
    "              in a figure.\n",
    "\n",
    "        Returns:\n",
    "            (np.ndarray, optional): the resulting decoded color image.\n",
    "        \"\"\"\n",
    "        label_colours = self.get_pascal_labels()\n",
    "        r = label_mask.copy()\n",
    "        g = label_mask.copy()\n",
    "        b = label_mask.copy()\n",
    "        for ll in range(0, self.n_classes):\n",
    "            r[label_mask == ll] = label_colours[ll, 0]\n",
    "            g[label_mask == ll] = label_colours[ll, 1]\n",
    "            b[label_mask == ll] = label_colours[ll, 2]\n",
    "        rgb = np.zeros((label_mask.shape[0], label_mask.shape[1], 3))\n",
    "        rgb[:, :, 0] = r / 255.0\n",
    "        rgb[:, :, 1] = g / 255.0\n",
    "        rgb[:, :, 2] = b / 255.0\n",
    "        if plot:\n",
    "            plt.imshow(rgb)\n",
    "            plt.show()\n",
    "        else:\n",
    "            return rgb\n",
    "\n",
    "    def setup_annotations(self):\n",
    "        \"\"\"Sets up Berkley annotations by adding image indices to the\n",
    "        `train_aug` split and pre-encode all segmentation labels into the\n",
    "        common label_mask format (if this has not already been done). This\n",
    "        function also defines the `train_aug` and `train_aug_val` data splits\n",
    "        according to the description in the class docstring\n",
    "        \"\"\"\n",
    "        sbd_path = self.sbd_path\n",
    "        target_path = pjoin(self.root, \"SegmentationClass/pre_encoded\")\n",
    "        if not os.path.exists(target_path):\n",
    "            os.makedirs(target_path)\n",
    "        train_aug = self.files[\"train\"]\n",
    "\n",
    "        # keep unique elements (stable)\n",
    "        train_aug = [train_aug[i] for i in sorted(np.unique(train_aug, return_index=True)[1])]\n",
    "        self.files[\"train_aug\"] = train_aug\n",
    "        set_diff = set(self.files[\"val\"]) - set(train_aug)  # remove overlap\n",
    "        self.files[\"train_aug_val\"] = list(set_diff)\n",
    "\n",
    "        pre_encoded = glob.glob(pjoin(target_path, \"*.png\"))\n",
    "        expected = np.unique(self.files[\"train_aug\"] + self.files[\"val\"]).size\n",
    "\n",
    "        if len(pre_encoded) != expected:\n",
    "            print(\"Pre-encoding segmentation masks...\")\n",
    "\n",
    "            for ii in tqdm(self.files[\"trainval\"]):\n",
    "                fname = ii + \".png\"\n",
    "                lbl_path = pjoin(self.root, \"SegmentationClass\", fname)\n",
    "                lbl = self.encode_segmap(imageio.imread(lbl_path))\n",
    "                lbl = Image.fromarray((lbl * 255).astype(np.uint8))\n",
    "                imageio.imwrite(pjoin(target_path, fname), lbl)\n",
    "\n",
    "        assert expected == 2913, \"unexpected dataset sizes\""
   ]
  },
  {
   "cell_type": "markdown",
   "metadata": {},
   "source": [
    "### 1.2 Define the model architecture(2.0 point)\n",
    "In this section you have the freedom to decide your own model. Keep in mind though, to perform image segmentation, you need to implement an architecture that does pixel level classification i.e. for each pixel in the image you need to predict the probability of it belonging to one of the 21 categories."
   ]
  },
  {
   "cell_type": "code",
   "execution_count": 2,
   "metadata": {
    "executionInfo": {
     "elapsed": 258581,
     "status": "ok",
     "timestamp": 1610647602625,
     "user": {
      "displayName": "dikshant gupta",
      "photoUrl": "https://lh3.googleusercontent.com/a-/AOh14GjGExYbOwwSrmoe8LVKyI5XQQl2f1k4HbD2Vx5Vpg=s64",
      "userId": "01845807612441668603"
     },
     "user_tz": -60
    },
    "id": "CatAsvH3GTXs"
   },
   "outputs": [],
   "source": [
    "import torch.nn as nn\n",
    "\n",
    "class Segnet(nn.Module):\n",
    "    def __init__(self, num_classes=21, n_init_features=3, drop_rate=0.5,\n",
    "                 filter_config=(64, 128, 256, 512, 512)):\n",
    "        super(Segnet, self).__init__()\n",
    "\n",
    "        self.conv_block1 = nn.Sequential(\n",
    "            nn.Conv2d(3, 64, 3, padding=100),\n",
    "            nn.ReLU(inplace=True),\n",
    "            nn.MaxPool2d(2, stride=2, ceil_mode=True),\n",
    "        )\n",
    "\n",
    "        self.conv_block2 = nn.Sequential(\n",
    "            nn.Conv2d(64, 128, 3, padding=1),\n",
    "            nn.ReLU(inplace=True),\n",
    "            nn.MaxPool2d(2, stride=2, ceil_mode=True),\n",
    "        )\n",
    "\n",
    "        self.conv_block3 = nn.Sequential(\n",
    "            nn.Conv2d(128, 256, 3, padding=1),\n",
    "            nn.ReLU(inplace=True),\n",
    "            nn.MaxPool2d(2, stride=2, ceil_mode=True),\n",
    "        )\n",
    "\n",
    "        self.classifier = nn.Sequential(\n",
    "            nn.Conv2d(256, 1024, 7),\n",
    "            nn.ReLU(inplace=True),\n",
    "            nn.Dropout2d(),\n",
    "            nn.Conv2d(1024, n_classes, 1),\n",
    "        )\n",
    "\n",
    "    def forward(self, x):\n",
    "        conv1 = self.conv_block1(x)\n",
    "        conv2 = self.conv_block2(conv1)\n",
    "        conv3 = self.conv_block3(conv2)\n",
    "\n",
    "        score = self.classifier(conv3)\n",
    "\n",
    "        out = F.interpolate(score, x.size()[2:])\n",
    "\n",
    "        return out"
   ]
  },
  {
   "cell_type": "code",
   "execution_count": 3,
   "metadata": {
    "executionInfo": {
     "elapsed": 11035,
     "status": "ok",
     "timestamp": 1610647664665,
     "user": {
      "displayName": "dikshant gupta",
      "photoUrl": "https://lh3.googleusercontent.com/a-/AOh14GjGExYbOwwSrmoe8LVKyI5XQQl2f1k4HbD2Vx5Vpg=s64",
      "userId": "01845807612441668603"
     },
     "user_tz": -60
    },
    "id": "QfQiOnEkGZat"
   },
   "outputs": [],
   "source": [
    "# Creating an instance of the model defined above. \n",
    "# You can modify it incase you need to pass paratemers to the constructor.\n",
    "device = torch.device(\"cuda\") if torch.cuda.is_available() else torch.device(\"cpu\")\n",
    "model = Segnet().to(device)"
   ]
  },
  {
   "cell_type": "markdown",
   "metadata": {},
   "source": [
    "### 1.3 Hyperparameters(0.5 points)\n",
    "Define all the hyperparameters(not restricted to the three given below) that you find useful here."
   ]
  },
  {
   "cell_type": "code",
   "execution_count": 4,
   "metadata": {},
   "outputs": [],
   "source": [
    "local_path = 'VOCdevkit/VOC2012/' # modify it according to your device\n",
    "bs = 64\n",
    "epochs = 300"
   ]
  },
  {
   "cell_type": "markdown",
   "metadata": {},
   "source": [
    "### 1.4 Dataset and Dataloader(0.5 points)\n",
    "Create the dataset using pascalVOCDataset class defined above. Use local_path defined in the cell above as root. "
   ]
  },
  {
   "cell_type": "code",
   "execution_count": 5,
   "metadata": {},
   "outputs": [],
   "source": [
    "# dataset variable\n",
    "dst = pascalVOCDataset(root=local_path, is_transform=True)\n",
    "\n",
    "# dataloader variable\n",
    "trainloader = data.DataLoader(dst, batch_size=bs, shuffle=True)"
   ]
  },
  {
   "cell_type": "markdown",
   "metadata": {},
   "source": [
    "### 1.5 Loss fuction and Optimizer(1.0 point)\n",
    "Define below with the loss function you think would be most suitable for segmentation task. You are free to choose any optimizer to train the network."
   ]
  },
  {
   "cell_type": "code",
   "execution_count": 6,
   "metadata": {},
   "outputs": [],
   "source": [
    "# loss function\n",
    "def loss_f(inputs, targets, weight=None):\n",
    "    n, c, h, w = inputs.size()\n",
    "    nt, ht, wt = targets.size()\n",
    "\n",
    "    # Handle inconsistent size between input and target\n",
    "    if h != ht and w != wt:  # upsample labels\n",
    "        inputs = F.interpolate(inputs, size=(ht, wt), mode=\"bilinear\", align_corners=True)\n",
    "\n",
    "    inputs = inputs.transpose(1, 2).transpose(2, 3).contiguous().view(-1, c)\n",
    "    targets = targets.view(-1)\n",
    "    loss = F.cross_entropy(\n",
    "        inputs, targets, weight=weight, reduction='mean', ignore_index=250\n",
    "    )\n",
    "    return loss\n",
    "\n",
    "# optimizer variable\n",
    "opt = optim.SGD(model.parameters(), lr=1e-3, momentum=0.9, weight_decay=5e-4)"
   ]
  },
  {
   "cell_type": "markdown",
   "metadata": {},
   "source": [
    "### 1.6 Training the model(3.0 points)\n",
    "Your task here is to complete the code below to perform a training loop and save the model weights after each epoch of training."
   ]
  },
  {
   "cell_type": "code",
   "execution_count": 12,
   "metadata": {
    "id": "Xz08hSdPKODm"
   },
   "outputs": [
    {
     "output_type": "error",
     "ename": "RuntimeError",
     "evalue": "Caught RuntimeError in replica 0 on device 0.\nOriginal Traceback (most recent call last):\n  File \"/home/c02yuli/anaconda3/lib/python3.8/site-packages/torch/nn/parallel/parallel_apply.py\", line 61, in _worker\n    output = module(*input, **kwargs)\n  File \"/home/c02yuli/anaconda3/lib/python3.8/site-packages/torch/nn/modules/module.py\", line 727, in _call_impl\n    result = self.forward(*input, **kwargs)\n  File \"<ipython-input-2-7580fbda146d>\", line 79, in forward\n    (feat, ind), size = self.encoders[i](feat)\n  File \"/home/c02yuli/anaconda3/lib/python3.8/site-packages/torch/nn/modules/module.py\", line 727, in _call_impl\n    result = self.forward(*input, **kwargs)\n  File \"<ipython-input-2-7580fbda146d>\", line 108, in forward\n    output = self.features(x)\n  File \"/home/c02yuli/anaconda3/lib/python3.8/site-packages/torch/nn/modules/module.py\", line 727, in _call_impl\n    result = self.forward(*input, **kwargs)\n  File \"/home/c02yuli/anaconda3/lib/python3.8/site-packages/torch/nn/modules/container.py\", line 117, in forward\n    input = module(input)\n  File \"/home/c02yuli/anaconda3/lib/python3.8/site-packages/torch/nn/modules/module.py\", line 727, in _call_impl\n    result = self.forward(*input, **kwargs)\n  File \"/home/c02yuli/anaconda3/lib/python3.8/site-packages/torch/nn/modules/conv.py\", line 423, in forward\n    return self._conv_forward(input, self.weight)\n  File \"/home/c02yuli/anaconda3/lib/python3.8/site-packages/torch/nn/modules/conv.py\", line 419, in _conv_forward\n    return F.conv2d(input, weight, self.bias, self.stride,\nRuntimeError: CUDA out of memory. Tried to allocate 512.00 MiB (GPU 0; 39.59 GiB total capacity; 21.76 GiB already allocated; 334.19 MiB free; 21.77 GiB reserved in total by PyTorch)\n",
     "traceback": [
      "\u001b[0;31m---------------------------------------------------------------------------\u001b[0m",
      "\u001b[0;31mRuntimeError\u001b[0m                              Traceback (most recent call last)",
      "\u001b[0;32m<ipython-input-12-cedead1e9c69>\u001b[0m in \u001b[0;36m<module>\u001b[0;34m\u001b[0m\n\u001b[1;32m     10\u001b[0m         \u001b[0minputs\u001b[0m\u001b[0;34m,\u001b[0m \u001b[0mtargets\u001b[0m \u001b[0;34m=\u001b[0m \u001b[0minputs\u001b[0m\u001b[0;34m.\u001b[0m\u001b[0mto\u001b[0m\u001b[0;34m(\u001b[0m\u001b[0mdevice\u001b[0m\u001b[0;34m)\u001b[0m\u001b[0;34m,\u001b[0m \u001b[0mtargets\u001b[0m\u001b[0;34m.\u001b[0m\u001b[0mto\u001b[0m\u001b[0;34m(\u001b[0m\u001b[0mdevice\u001b[0m\u001b[0;34m)\u001b[0m\u001b[0;34m\u001b[0m\u001b[0;34m\u001b[0m\u001b[0m\n\u001b[1;32m     11\u001b[0m         \u001b[0mopt\u001b[0m\u001b[0;34m.\u001b[0m\u001b[0mzero_grad\u001b[0m\u001b[0;34m(\u001b[0m\u001b[0;34m)\u001b[0m\u001b[0;34m\u001b[0m\u001b[0;34m\u001b[0m\u001b[0m\n\u001b[0;32m---> 12\u001b[0;31m         \u001b[0moutputs\u001b[0m \u001b[0;34m=\u001b[0m \u001b[0mmodel\u001b[0m\u001b[0;34m(\u001b[0m\u001b[0minputs\u001b[0m\u001b[0;34m)\u001b[0m\u001b[0;34m\u001b[0m\u001b[0;34m\u001b[0m\u001b[0m\n\u001b[0m\u001b[1;32m     13\u001b[0m \u001b[0;34m\u001b[0m\u001b[0m\n\u001b[1;32m     14\u001b[0m         \u001b[0mloss\u001b[0m \u001b[0;34m=\u001b[0m \u001b[0mloos_f\u001b[0m\u001b[0;34m(\u001b[0m\u001b[0moutputs\u001b[0m\u001b[0;34m,\u001b[0m \u001b[0mtargets\u001b[0m\u001b[0;34m)\u001b[0m\u001b[0;34m\u001b[0m\u001b[0;34m\u001b[0m\u001b[0m\n",
      "\u001b[0;32m~/anaconda3/lib/python3.8/site-packages/torch/nn/modules/module.py\u001b[0m in \u001b[0;36m_call_impl\u001b[0;34m(self, *input, **kwargs)\u001b[0m\n\u001b[1;32m    725\u001b[0m             \u001b[0mresult\u001b[0m \u001b[0;34m=\u001b[0m \u001b[0mself\u001b[0m\u001b[0;34m.\u001b[0m\u001b[0m_slow_forward\u001b[0m\u001b[0;34m(\u001b[0m\u001b[0;34m*\u001b[0m\u001b[0minput\u001b[0m\u001b[0;34m,\u001b[0m \u001b[0;34m**\u001b[0m\u001b[0mkwargs\u001b[0m\u001b[0;34m)\u001b[0m\u001b[0;34m\u001b[0m\u001b[0;34m\u001b[0m\u001b[0m\n\u001b[1;32m    726\u001b[0m         \u001b[0;32melse\u001b[0m\u001b[0;34m:\u001b[0m\u001b[0;34m\u001b[0m\u001b[0;34m\u001b[0m\u001b[0m\n\u001b[0;32m--> 727\u001b[0;31m             \u001b[0mresult\u001b[0m \u001b[0;34m=\u001b[0m \u001b[0mself\u001b[0m\u001b[0;34m.\u001b[0m\u001b[0mforward\u001b[0m\u001b[0;34m(\u001b[0m\u001b[0;34m*\u001b[0m\u001b[0minput\u001b[0m\u001b[0;34m,\u001b[0m \u001b[0;34m**\u001b[0m\u001b[0mkwargs\u001b[0m\u001b[0;34m)\u001b[0m\u001b[0;34m\u001b[0m\u001b[0;34m\u001b[0m\u001b[0m\n\u001b[0m\u001b[1;32m    728\u001b[0m         for hook in itertools.chain(\n\u001b[1;32m    729\u001b[0m                 \u001b[0m_global_forward_hooks\u001b[0m\u001b[0;34m.\u001b[0m\u001b[0mvalues\u001b[0m\u001b[0;34m(\u001b[0m\u001b[0;34m)\u001b[0m\u001b[0;34m,\u001b[0m\u001b[0;34m\u001b[0m\u001b[0;34m\u001b[0m\u001b[0m\n",
      "\u001b[0;32m~/anaconda3/lib/python3.8/site-packages/torch/nn/parallel/data_parallel.py\u001b[0m in \u001b[0;36mforward\u001b[0;34m(self, *inputs, **kwargs)\u001b[0m\n\u001b[1;32m    159\u001b[0m             \u001b[0;32mreturn\u001b[0m \u001b[0mself\u001b[0m\u001b[0;34m.\u001b[0m\u001b[0mmodule\u001b[0m\u001b[0;34m(\u001b[0m\u001b[0;34m*\u001b[0m\u001b[0minputs\u001b[0m\u001b[0;34m[\u001b[0m\u001b[0;36m0\u001b[0m\u001b[0;34m]\u001b[0m\u001b[0;34m,\u001b[0m \u001b[0;34m**\u001b[0m\u001b[0mkwargs\u001b[0m\u001b[0;34m[\u001b[0m\u001b[0;36m0\u001b[0m\u001b[0;34m]\u001b[0m\u001b[0;34m)\u001b[0m\u001b[0;34m\u001b[0m\u001b[0;34m\u001b[0m\u001b[0m\n\u001b[1;32m    160\u001b[0m         \u001b[0mreplicas\u001b[0m \u001b[0;34m=\u001b[0m \u001b[0mself\u001b[0m\u001b[0;34m.\u001b[0m\u001b[0mreplicate\u001b[0m\u001b[0;34m(\u001b[0m\u001b[0mself\u001b[0m\u001b[0;34m.\u001b[0m\u001b[0mmodule\u001b[0m\u001b[0;34m,\u001b[0m \u001b[0mself\u001b[0m\u001b[0;34m.\u001b[0m\u001b[0mdevice_ids\u001b[0m\u001b[0;34m[\u001b[0m\u001b[0;34m:\u001b[0m\u001b[0mlen\u001b[0m\u001b[0;34m(\u001b[0m\u001b[0minputs\u001b[0m\u001b[0;34m)\u001b[0m\u001b[0;34m]\u001b[0m\u001b[0;34m)\u001b[0m\u001b[0;34m\u001b[0m\u001b[0;34m\u001b[0m\u001b[0m\n\u001b[0;32m--> 161\u001b[0;31m         \u001b[0moutputs\u001b[0m \u001b[0;34m=\u001b[0m \u001b[0mself\u001b[0m\u001b[0;34m.\u001b[0m\u001b[0mparallel_apply\u001b[0m\u001b[0;34m(\u001b[0m\u001b[0mreplicas\u001b[0m\u001b[0;34m,\u001b[0m \u001b[0minputs\u001b[0m\u001b[0;34m,\u001b[0m \u001b[0mkwargs\u001b[0m\u001b[0;34m)\u001b[0m\u001b[0;34m\u001b[0m\u001b[0;34m\u001b[0m\u001b[0m\n\u001b[0m\u001b[1;32m    162\u001b[0m         \u001b[0;32mreturn\u001b[0m \u001b[0mself\u001b[0m\u001b[0;34m.\u001b[0m\u001b[0mgather\u001b[0m\u001b[0;34m(\u001b[0m\u001b[0moutputs\u001b[0m\u001b[0;34m,\u001b[0m \u001b[0mself\u001b[0m\u001b[0;34m.\u001b[0m\u001b[0moutput_device\u001b[0m\u001b[0;34m)\u001b[0m\u001b[0;34m\u001b[0m\u001b[0;34m\u001b[0m\u001b[0m\n\u001b[1;32m    163\u001b[0m \u001b[0;34m\u001b[0m\u001b[0m\n",
      "\u001b[0;32m~/anaconda3/lib/python3.8/site-packages/torch/nn/parallel/data_parallel.py\u001b[0m in \u001b[0;36mparallel_apply\u001b[0;34m(self, replicas, inputs, kwargs)\u001b[0m\n\u001b[1;32m    169\u001b[0m \u001b[0;34m\u001b[0m\u001b[0m\n\u001b[1;32m    170\u001b[0m     \u001b[0;32mdef\u001b[0m \u001b[0mparallel_apply\u001b[0m\u001b[0;34m(\u001b[0m\u001b[0mself\u001b[0m\u001b[0;34m,\u001b[0m \u001b[0mreplicas\u001b[0m\u001b[0;34m,\u001b[0m \u001b[0minputs\u001b[0m\u001b[0;34m,\u001b[0m \u001b[0mkwargs\u001b[0m\u001b[0;34m)\u001b[0m\u001b[0;34m:\u001b[0m\u001b[0;34m\u001b[0m\u001b[0;34m\u001b[0m\u001b[0m\n\u001b[0;32m--> 171\u001b[0;31m         \u001b[0;32mreturn\u001b[0m \u001b[0mparallel_apply\u001b[0m\u001b[0;34m(\u001b[0m\u001b[0mreplicas\u001b[0m\u001b[0;34m,\u001b[0m \u001b[0minputs\u001b[0m\u001b[0;34m,\u001b[0m \u001b[0mkwargs\u001b[0m\u001b[0;34m,\u001b[0m \u001b[0mself\u001b[0m\u001b[0;34m.\u001b[0m\u001b[0mdevice_ids\u001b[0m\u001b[0;34m[\u001b[0m\u001b[0;34m:\u001b[0m\u001b[0mlen\u001b[0m\u001b[0;34m(\u001b[0m\u001b[0mreplicas\u001b[0m\u001b[0;34m)\u001b[0m\u001b[0;34m]\u001b[0m\u001b[0;34m)\u001b[0m\u001b[0;34m\u001b[0m\u001b[0;34m\u001b[0m\u001b[0m\n\u001b[0m\u001b[1;32m    172\u001b[0m \u001b[0;34m\u001b[0m\u001b[0m\n\u001b[1;32m    173\u001b[0m     \u001b[0;32mdef\u001b[0m \u001b[0mgather\u001b[0m\u001b[0;34m(\u001b[0m\u001b[0mself\u001b[0m\u001b[0;34m,\u001b[0m \u001b[0moutputs\u001b[0m\u001b[0;34m,\u001b[0m \u001b[0moutput_device\u001b[0m\u001b[0;34m)\u001b[0m\u001b[0;34m:\u001b[0m\u001b[0;34m\u001b[0m\u001b[0;34m\u001b[0m\u001b[0m\n",
      "\u001b[0;32m~/anaconda3/lib/python3.8/site-packages/torch/nn/parallel/parallel_apply.py\u001b[0m in \u001b[0;36mparallel_apply\u001b[0;34m(modules, inputs, kwargs_tup, devices)\u001b[0m\n\u001b[1;32m     84\u001b[0m         \u001b[0moutput\u001b[0m \u001b[0;34m=\u001b[0m \u001b[0mresults\u001b[0m\u001b[0;34m[\u001b[0m\u001b[0mi\u001b[0m\u001b[0;34m]\u001b[0m\u001b[0;34m\u001b[0m\u001b[0;34m\u001b[0m\u001b[0m\n\u001b[1;32m     85\u001b[0m         \u001b[0;32mif\u001b[0m \u001b[0misinstance\u001b[0m\u001b[0;34m(\u001b[0m\u001b[0moutput\u001b[0m\u001b[0;34m,\u001b[0m \u001b[0mExceptionWrapper\u001b[0m\u001b[0;34m)\u001b[0m\u001b[0;34m:\u001b[0m\u001b[0;34m\u001b[0m\u001b[0;34m\u001b[0m\u001b[0m\n\u001b[0;32m---> 86\u001b[0;31m             \u001b[0moutput\u001b[0m\u001b[0;34m.\u001b[0m\u001b[0mreraise\u001b[0m\u001b[0;34m(\u001b[0m\u001b[0;34m)\u001b[0m\u001b[0;34m\u001b[0m\u001b[0;34m\u001b[0m\u001b[0m\n\u001b[0m\u001b[1;32m     87\u001b[0m         \u001b[0moutputs\u001b[0m\u001b[0;34m.\u001b[0m\u001b[0mappend\u001b[0m\u001b[0;34m(\u001b[0m\u001b[0moutput\u001b[0m\u001b[0;34m)\u001b[0m\u001b[0;34m\u001b[0m\u001b[0;34m\u001b[0m\u001b[0m\n\u001b[1;32m     88\u001b[0m     \u001b[0;32mreturn\u001b[0m \u001b[0moutputs\u001b[0m\u001b[0;34m\u001b[0m\u001b[0;34m\u001b[0m\u001b[0m\n",
      "\u001b[0;32m~/anaconda3/lib/python3.8/site-packages/torch/_utils.py\u001b[0m in \u001b[0;36mreraise\u001b[0;34m(self)\u001b[0m\n\u001b[1;32m    426\u001b[0m             \u001b[0;31m# have message field\u001b[0m\u001b[0;34m\u001b[0m\u001b[0;34m\u001b[0m\u001b[0;34m\u001b[0m\u001b[0m\n\u001b[1;32m    427\u001b[0m             \u001b[0;32mraise\u001b[0m \u001b[0mself\u001b[0m\u001b[0;34m.\u001b[0m\u001b[0mexc_type\u001b[0m\u001b[0;34m(\u001b[0m\u001b[0mmessage\u001b[0m\u001b[0;34m=\u001b[0m\u001b[0mmsg\u001b[0m\u001b[0;34m)\u001b[0m\u001b[0;34m\u001b[0m\u001b[0;34m\u001b[0m\u001b[0m\n\u001b[0;32m--> 428\u001b[0;31m         \u001b[0;32mraise\u001b[0m \u001b[0mself\u001b[0m\u001b[0;34m.\u001b[0m\u001b[0mexc_type\u001b[0m\u001b[0;34m(\u001b[0m\u001b[0mmsg\u001b[0m\u001b[0;34m)\u001b[0m\u001b[0;34m\u001b[0m\u001b[0;34m\u001b[0m\u001b[0m\n\u001b[0m\u001b[1;32m    429\u001b[0m \u001b[0;34m\u001b[0m\u001b[0m\n\u001b[1;32m    430\u001b[0m \u001b[0;34m\u001b[0m\u001b[0m\n",
      "\u001b[0;31mRuntimeError\u001b[0m: Caught RuntimeError in replica 0 on device 0.\nOriginal Traceback (most recent call last):\n  File \"/home/c02yuli/anaconda3/lib/python3.8/site-packages/torch/nn/parallel/parallel_apply.py\", line 61, in _worker\n    output = module(*input, **kwargs)\n  File \"/home/c02yuli/anaconda3/lib/python3.8/site-packages/torch/nn/modules/module.py\", line 727, in _call_impl\n    result = self.forward(*input, **kwargs)\n  File \"<ipython-input-2-7580fbda146d>\", line 79, in forward\n    (feat, ind), size = self.encoders[i](feat)\n  File \"/home/c02yuli/anaconda3/lib/python3.8/site-packages/torch/nn/modules/module.py\", line 727, in _call_impl\n    result = self.forward(*input, **kwargs)\n  File \"<ipython-input-2-7580fbda146d>\", line 108, in forward\n    output = self.features(x)\n  File \"/home/c02yuli/anaconda3/lib/python3.8/site-packages/torch/nn/modules/module.py\", line 727, in _call_impl\n    result = self.forward(*input, **kwargs)\n  File \"/home/c02yuli/anaconda3/lib/python3.8/site-packages/torch/nn/modules/container.py\", line 117, in forward\n    input = module(input)\n  File \"/home/c02yuli/anaconda3/lib/python3.8/site-packages/torch/nn/modules/module.py\", line 727, in _call_impl\n    result = self.forward(*input, **kwargs)\n  File \"/home/c02yuli/anaconda3/lib/python3.8/site-packages/torch/nn/modules/conv.py\", line 423, in forward\n    return self._conv_forward(input, self.weight)\n  File \"/home/c02yuli/anaconda3/lib/python3.8/site-packages/torch/nn/modules/conv.py\", line 419, in _conv_forward\n    return F.conv2d(input, weight, self.bias, self.stride,\nRuntimeError: CUDA out of memory. Tried to allocate 512.00 MiB (GPU 0; 39.59 GiB total capacity; 21.76 GiB already allocated; 334.19 MiB free; 21.77 GiB reserved in total by PyTorch)\n"
     ]
    }
   ],
   "source": [
    "model = nn.DataParallel(model)\n",
    "\n",
    "for _ in range(epochs):\n",
    "    print(\"++++++++++++++++++++++++++++++++Epoch: \" + str(epoch+1) + \"++++++++++++++++++++++++++++++++\")\n",
    "    model.train()\n",
    "\n",
    "    train_loss = 0\n",
    "    correct = 0\n",
    "    total = 0\n",
    "    for batch_idx, (inputs, targets) in enumerate(trainloader):\n",
    "        inputs, targets = inputs.to(device), targets.to(device)\n",
    "        opt.zero_grad()\n",
    "        outputs = model(inputs)\n",
    "\n",
    "        loss = loss_f(inputs=outputs, targets=targets)\n",
    "        loss.backward()\n",
    "        opt.step()\n",
    "\n",
    "        train_loss += loss.item()\n",
    "        \n",
    "    print( 'Loss: %.4f' % (loss.item()))\n",
    "\n",
    "torch.save(model.state_dict(), \"./model.pth\")\n",
    "print(\"saved model!!!\")"
   ]
  },
  {
   "cell_type": "markdown",
   "metadata": {},
   "source": [
    "### 1.7 Evaluate your model(1.5 points)\n",
    "In this section you have to implement the evaluation metrics for your model. Calculate the values of F1-score, dice coefficient and AUC-ROC score on the data you used for training. You can use external packages like scikit-learn to compute above metrics."
   ]
  },
  {
   "cell_type": "code",
   "execution_count": null,
   "metadata": {},
   "outputs": [],
   "source": [
    "model = Segnet() \n",
    "model.load_state_dict(torch.load(\"./model.pth\"), strict=False)\n",
    "model.eval()\n",
    "\n",
    "for inputs, targets in trainloader:\n",
    "    inputs, targets = inputs.to(device), targets.to(device)\n",
    "    opt.zero_grad()\n",
    "    outputs = model(inputs)\n",
    "\n",
    "def evaluate(ground_truth, predictions):\n",
    "    \n",
    "    \n",
    "    return f1_score, auc_score, dice_coeeficient"
   ]
  },
  {
   "cell_type": "markdown",
   "metadata": {},
   "source": [
    "### 1.8 Plot the evaluation metrics against epochs(1.0)\n",
    "In section 1.6 we saved the weights of the model after each epoch. In this section, you have to calculate the evaluation metrics after each epoch of training by loading the weights for each epoch. Once you have calculated the evaluation metrics for each epoch, plot them against the epochs."
   ]
  },
  {
   "cell_type": "code",
   "execution_count": null,
   "metadata": {},
   "outputs": [],
   "source": []
  },
  {
   "cell_type": "markdown",
   "metadata": {},
   "source": [
    "### 1.9 Visualize results(0.5 points)\n",
    "For any 10 images in the dataset, show the images along the with their segmentation mask."
   ]
  },
  {
   "cell_type": "code",
   "execution_count": null,
   "metadata": {
    "id": "3NS50IL_c7Mf"
   },
   "outputs": [],
   "source": []
  }
 ],
 "metadata": {
  "accelerator": "GPU",
  "colab": {
   "authorship_tag": "ABX9TyNWH9Es3iVeYFlc2UXzgAC7",
   "collapsed_sections": [],
   "mount_file_id": "1VGd6BoJzZfNjljQpW2Y1nDcze9QND0pA",
   "name": "Copy of segmentation_1.ipynb",
   "provenance": [
    {
     "file_id": "1VGd6BoJzZfNjljQpW2Y1nDcze9QND0pA",
     "timestamp": 1610458540688
    }
   ]
  },
  "kernelspec": {
   "display_name": "Python 3",
   "language": "python",
   "name": "python3"
  },
  "language_info": {
   "codemirror_mode": {
    "name": "ipython",
    "version": 3
   },
   "file_extension": ".py",
   "mimetype": "text/x-python",
   "name": "python",
   "nbconvert_exporter": "python",
   "pygments_lexer": "ipython3",
   "version": "3.8.8-final"
  }
 },
 "nbformat": 4,
 "nbformat_minor": 1
}